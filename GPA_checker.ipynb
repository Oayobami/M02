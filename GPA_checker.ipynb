{
 "cells": [
  {
   "cell_type": "code",
   "execution_count": 1,
   "id": "f90d9765-84a1-4b19-9524-de7ac1647ab7",
   "metadata": {},
   "outputs": [
    {
     "name": "stdin",
     "output_type": "stream",
     "text": [
      "Enter your first name:  Oluwadeyi\n",
      "Enter your last name:  Ayobami\n",
      "Enter your GPA:  3.8\n"
     ]
    },
    {
     "name": "stdout",
     "output_type": "stream",
     "text": [
      "Congrats! Oluwadeyi Ayobami You are qualified for the dean's list\n",
      "\n"
     ]
    },
    {
     "name": "stdin",
     "output_type": "stream",
     "text": [
      "Enter your first name:  Evan\n",
      "Enter your last name:  Mitchell\n",
      "Enter your GPA:  4.1\n"
     ]
    },
    {
     "name": "stdout",
     "output_type": "stream",
     "text": [
      "Congrats! Evan Mitchell You are qualified for the dean's list\n",
      "\n"
     ]
    },
    {
     "name": "stdin",
     "output_type": "stream",
     "text": [
      "Enter your first name:  James\n",
      "Enter your last name:  Harden\n",
      "Enter your GPA:  3.4\n"
     ]
    },
    {
     "name": "stdout",
     "output_type": "stream",
     "text": [
      "Well Done! James Harden You've made Honor Roll!\n",
      "\n"
     ]
    },
    {
     "name": "stdin",
     "output_type": "stream",
     "text": [
      "Enter your first name:  Michael\n",
      "Enter your last name:  Jackson\n",
      "Enter your GPA:  3.6\n"
     ]
    },
    {
     "name": "stdout",
     "output_type": "stream",
     "text": [
      "Congrats! Michael Jackson You are qualified for the dean's list\n",
      "\n"
     ]
    },
    {
     "name": "stdin",
     "output_type": "stream",
     "text": [
      "Enter your first name:  Jack\n",
      "Enter your last name:  Frost\n",
      "Enter your GPA:  2.5\n"
     ]
    },
    {
     "name": "stdout",
     "output_type": "stream",
     "text": [
      "Jack Frost You didn't make any list, Better Luck Next Time :)\n",
      "\n"
     ]
    },
    {
     "name": "stdin",
     "output_type": "stream",
     "text": [
      "Enter your first name:  Kelly\n",
      "Enter your last name:  ZZZ\n"
     ]
    },
    {
     "name": "stdout",
     "output_type": "stream",
     "text": [
      "Program exited\n"
     ]
    }
   ],
   "source": [
    "# Name: Oluwadeyi Ayobami\n",
    "# Progam_name: GPA_checker.ipynb\n",
    "#This program will check if the students gpa has made honour roll or Dean's list\n",
    "\n",
    "while True:\n",
    "    #gets first name\n",
    "    first_name = input(\"Enter your first name: \")\n",
    "    #gets last name\n",
    "    last_name = input(\"Enter your last name: \")\n",
    "\n",
    "    #checks if last_name == 'ZZZ' if so breaks the loop\n",
    "    if last_name == \"ZZZ\":\n",
    "        print(\"Program exited\")\n",
    "        break\n",
    "\n",
    "    #cast the int to float \n",
    "    gpa = float(input(\"Enter your GPA: \"))\n",
    "\n",
    "    if gpa >= 3.5:\n",
    "        print(f\"Congrats! {first_name} {last_name } You are qualified for the dean's list\")\n",
    "        print(\"\")\n",
    "    elif gpa >= 3.25:\n",
    "        print(f\"Well Done! {first_name} {last_name} You've made Honor Roll!\")\n",
    "        print(\"\")\n",
    "    else:\n",
    "        print(f\"{first_name} {last_name} You didn't make any list, Better Luck Next Time :)\")\n",
    "        print(\"\")\n",
    "    "
   ]
  },
  {
   "cell_type": "code",
   "execution_count": null,
   "id": "b6d1bf57-3d95-4bbf-8edb-5e0c80c9ee88",
   "metadata": {},
   "outputs": [],
   "source": []
  }
 ],
 "metadata": {
  "kernelspec": {
   "display_name": "Python 3 (ipykernel)",
   "language": "python",
   "name": "python3"
  },
  "language_info": {
   "codemirror_mode": {
    "name": "ipython",
    "version": 3
   },
   "file_extension": ".py",
   "mimetype": "text/x-python",
   "name": "python",
   "nbconvert_exporter": "python",
   "pygments_lexer": "ipython3",
   "version": "3.11.7"
  }
 },
 "nbformat": 4,
 "nbformat_minor": 5
}
