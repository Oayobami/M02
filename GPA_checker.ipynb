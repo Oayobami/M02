{
 "cells": [
  {
   "cell_type": "code",
   "execution_count": 2,
   "id": "0f015056-62c6-460e-ad6c-f2f9df704911",
   "metadata": {},
   "outputs": [
    {
     "name": "stdin",
     "output_type": "stream",
     "text": [
      "Enter your first name:  Oluwadeyi\n",
      "Enter your last name:  Ayobami\n",
      "Enter your GPA:  3.6\n"
     ]
    },
    {
     "name": "stdout",
     "output_type": "stream",
     "text": [
      "Congrats! Oluwadeyi Ayobami You are qualified for the dean's list\n",
      "\n"
     ]
    },
    {
     "name": "stdin",
     "output_type": "stream",
     "text": [
      "Enter your first name:  Evan\n",
      "Enter your last name:  Mitchell\n",
      "Enter your GPA:  4.1\n"
     ]
    },
    {
     "name": "stdout",
     "output_type": "stream",
     "text": [
      "Congrats! Evan Mitchell You are qualified for the dean's list\n",
      "\n"
     ]
    },
    {
     "name": "stdin",
     "output_type": "stream",
     "text": [
      "Enter your first name:  James\n",
      "Enter your last name:  Harden\n",
      "Enter your GPA:  3.2\n"
     ]
    },
    {
     "name": "stdout",
     "output_type": "stream",
     "text": [
      "James Harden You didn't make any list, Better Luck Next Time :)\n",
      "\n"
     ]
    },
    {
     "name": "stdin",
     "output_type": "stream",
     "text": [
      "Enter your first name:  Kelly\n",
      "Enter your last name:  Bard\n",
      "Enter your GPA:  3.4\n"
     ]
    },
    {
     "name": "stdout",
     "output_type": "stream",
     "text": [
      "Well Done! Kelly Bard You've made Honor Roll!\n",
      "\n"
     ]
    },
    {
     "name": "stdin",
     "output_type": "stream",
     "text": [
      "Enter your first name:  Brad\n",
      "Enter your last name:  ZZZ\n"
     ]
    },
    {
     "name": "stdout",
     "output_type": "stream",
     "text": [
      "Program exited\n"
     ]
    }
   ],
   "source": [
    "# Name: Oluwadeyi Ayobami\n",
    "# Program_name: GPA_checker.ipynb\n",
    "# This program will check if the students gpa has made honour roll or Dean's list\n",
    "\n",
    "while True:\n",
    "    #gets first name\n",
    "    first_name = input(\"Enter your first name: \")\n",
    "    #gets last name\n",
    "    last_name = input(\"Enter your last name: \")\n",
    "\n",
    "    #checks if last_name == 'ZZZ' if so breaks the loop\n",
    "    if last_name == \"ZZZ\":\n",
    "        print(\"Program exited\")\n",
    "        break\n",
    "\n",
    "    #cast the int to float \n",
    "    gpa = float(input(\"Enter your GPA: \"))\n",
    "\n",
    "    if gpa >= 3.5:\n",
    "        print(f\"Congrats! {first_name} {last_name } You are qualified for the dean's list\")\n",
    "        print(\"\")\n",
    "    elif gpa >= 3.25:\n",
    "        print(f\"Well Done! {first_name} {last_name} You've made Honor Roll!\")\n",
    "        print(\"\")\n",
    "    else:\n",
    "        print(f\"{first_name} {last_name} You didn't make any list, Better Luck Next Time :)\")\n",
    "        print(\"\")\n",
    "    "
   ]
  },
  {
   "cell_type": "code",
   "execution_count": null,
   "id": "c030ce26-38fb-4f30-a374-0a75def0a296",
   "metadata": {},
   "outputs": [],
   "source": []
  }
 ],
 "metadata": {
  "kernelspec": {
   "display_name": "Python 3 (ipykernel)",
   "language": "python",
   "name": "python3"
  },
  "language_info": {
   "codemirror_mode": {
    "name": "ipython",
    "version": 3
   },
   "file_extension": ".py",
   "mimetype": "text/x-python",
   "name": "python",
   "nbconvert_exporter": "python",
   "pygments_lexer": "ipython3",
   "version": "3.11.7"
  }
 },
 "nbformat": 4,
 "nbformat_minor": 5
}
