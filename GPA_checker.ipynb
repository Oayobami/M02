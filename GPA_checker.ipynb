{
 "cells": [
  {
   "cell_type": "code",
   "execution_count": 3,
   "id": "ff077f9e-c846-4c6d-91f7-94e1b283bec3",
   "metadata": {},
   "outputs": [
    {
     "name": "stdin",
     "output_type": "stream",
     "text": [
      "Enter your first name:  Oluwadeyi\n",
      "Enter your last name:  Ayobami\n",
      "Enter your GPA:  3.6\n"
     ]
    },
    {
     "name": "stdout",
     "output_type": "stream",
     "text": [
      "Congrats! Oluwadeyi Ayobami You are qualified for the dean's list\n",
      "\n"
     ]
    },
    {
     "name": "stdin",
     "output_type": "stream",
     "text": [
      "Enter your first name:  Jacob\n",
      "Enter your last name:  james\n",
      "Enter your GPA:  3.4\n"
     ]
    },
    {
     "name": "stdout",
     "output_type": "stream",
     "text": [
      "Well Done! Jacob james You've made Honor Roll!\n",
      "\n"
     ]
    },
    {
     "name": "stdin",
     "output_type": "stream",
     "text": [
      "Enter your first name:  Michael\n",
      "Enter your last name:  Uwabani\n",
      "Enter your GPA:  2.6\n"
     ]
    },
    {
     "name": "stdout",
     "output_type": "stream",
     "text": [
      "Better Luck Next Time\n",
      "\n"
     ]
    },
    {
     "name": "stdin",
     "output_type": "stream",
     "text": [
      "Enter your first name:  Francis\n",
      "Enter your last name:  King\n",
      "Enter your GPA:  3.7\n"
     ]
    },
    {
     "name": "stdout",
     "output_type": "stream",
     "text": [
      "Congrats! Francis King You are qualified for the dean's list\n",
      "\n"
     ]
    },
    {
     "name": "stdin",
     "output_type": "stream",
     "text": [
      "Enter your first name:  Micheal\n",
      "Enter your last name:  Uwobi\n",
      "Enter your GPA:  3.25\n"
     ]
    },
    {
     "name": "stdout",
     "output_type": "stream",
     "text": [
      "Well Done! Micheal Uwobi You've made Honor Roll!\n",
      "\n"
     ]
    },
    {
     "name": "stdin",
     "output_type": "stream",
     "text": [
      "Enter your first name:  Jake\n",
      "Enter your last name:  ZZZ\n",
      "Enter your GPA:  3.9\n"
     ]
    }
   ],
   "source": [
    "#Name: Oluwadeyi Ayobami\n",
    "#Progam_name: GPA_checker\n",
    "#This program will check if the students gpa has made honour roll or Dean's list\n",
    "\n",
    "while True:\n",
    "    first_name = input(\"Enter your first name: \")\n",
    "    last_name = input(\"Enter your last name: \")\n",
    "    if last_name == \"ZZZ\":\n",
    "        break\n",
    "    gpa = float(input(\"Enter your GPA: \"))\n",
    "\n",
    "    if gpa >= 3.5:\n",
    "        print(f\"Congrats! {first_name} {last_name } You are qualified for the dean's list\")\n",
    "        print(\"\")\n",
    "    elif gpa >= 3.25:\n",
    "        print(f\"Well Done! {first_name} {last_name} You've made Honor Roll!\")\n",
    "        print(\"\")\n",
    "    else:\n",
    "        print(\"Better Luck Next Time\")\n",
    "        print(\"\")\n",
    "    "
   ]
  },
  {
   "cell_type": "code",
   "execution_count": null,
   "id": "944531a3-a0ad-41db-98c2-c76679c93739",
   "metadata": {},
   "outputs": [],
   "source": []
  }
 ],
 "metadata": {
  "kernelspec": {
   "display_name": "Python 3 (ipykernel)",
   "language": "python",
   "name": "python3"
  },
  "language_info": {
   "codemirror_mode": {
    "name": "ipython",
    "version": 3
   },
   "file_extension": ".py",
   "mimetype": "text/x-python",
   "name": "python",
   "nbconvert_exporter": "python",
   "pygments_lexer": "ipython3",
   "version": "3.11.7"
  }
 },
 "nbformat": 4,
 "nbformat_minor": 5
}
